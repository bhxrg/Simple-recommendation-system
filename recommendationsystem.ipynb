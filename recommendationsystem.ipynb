{
 "cells": [
  {
   "cell_type": "code",
   "execution_count": 13,
   "id": "1b661b29",
   "metadata": {},
   "outputs": [
    {
     "name": "stdout",
     "output_type": "stream",
     "text": [
      "Recommended courses:\n",
      "- ba (history)\n",
      "- bsc (maths)\n",
      "- btech (civil)\n"
     ]
    }
   ],
   "source": [
    "import pandas as pd\n",
    "from sklearn.feature_extraction.text import TfidfVectorizer\n",
    "from sklearn.metrics.pairwise import cosine_similarity\n",
    "\n",
    "# Load the dataset\n",
    "data = {\n",
    "    'id': [1, 2, 3, 4, 5],\n",
    "    'gender': ['male', 'female', 'male', 'female', 'male'],\n",
    "    'stream': ['science', 'commerce', 'humanities', 'commerce', 'science'],\n",
    "    'subject': ['physics', 'maths', 'history', 'economics', 'chemistry'],\n",
    "    'marks': [78, 56, 79, 88, 79],\n",
    "    'course': ['btech', 'bsc', 'ba', 'bcom', 'Esc'],\n",
    "    'specialization': ['civil', 'maths', 'history', 'hons', 'biology']\n",
    "}\n",
    "\n",
    "df = pd.DataFrame(data)\n",
    "\n",
    "# Feature Engineering\n",
    "features = ['stream', 'subject', 'marks']\n",
    "\n",
    "# Recommendation Algorithm\n",
    "tfidf_vectorizer = TfidfVectorizer()\n",
    "tfidf_matrix = tfidf_vectorizer.fit_transform(df[features].astype(str))\n",
    "\n",
    "# Computing Cosine Similarity between courses\n",
    "cosine_sim = cosine_similarity(tfidf_matrix, tfidf_matrix)\n",
    "\n",
    "# Making Recommendations\n",
    "def recommend_courses(new_student_profile, cosine_sim=cosine_sim):\n",
    "    # Calculate TF-IDF vector for new student profile\n",
    "    new_student_tfidf = tfidf_vectorizer.transform([str(val) for val in new_student_profile.values()])\n",
    "\n",
    "    # Calculate cosine similarity between new student profile and courses\n",
    "    sim_scores = cosine_similarity(new_student_tfidf, tfidf_matrix)\n",
    "    sim_scores = sim_scores[0]  # Flatten the array\n",
    "\n",
    "    # Get indices of courses sorted by similarity score (descending order)\n",
    "    course_indices = sim_scores.argsort()[::-1]\n",
    "\n",
    "    # Filter out the courses already taken by the student\n",
    "    taken_courses = set(df['course'][df['id'] == new_student_profile['id']])\n",
    "    recommended_courses = [(df.iloc[idx]['course'], df.iloc[idx]['specialization']) for idx in course_indices if df.iloc[idx]['course'] not in taken_courses]\n",
    "\n",
    "    return recommended_courses\n",
    "\n",
    "# Example: New student profile\n",
    "new_student_profile = {\n",
    "    'id': 6,\n",
    "    'stream': 'commerce',\n",
    "    'subject': 'economics',\n",
    "    'marks': 85\n",
    "}\n",
    "\n",
    "# Make recommendations for the new student\n",
    "recommendations = recommend_courses(new_student_profile)\n",
    "print(\"Recommended courses:\")\n",
    "for course, specialization in recommendations:\n",
    "    print(f\"- {course} ({specialization})\")\n"
   ]
  },
  {
   "cell_type": "code",
   "execution_count": null,
   "id": "efd9b348",
   "metadata": {},
   "outputs": [],
   "source": []
  }
 ],
 "metadata": {
  "kernelspec": {
   "display_name": "Python 3 (ipykernel)",
   "language": "python",
   "name": "python3"
  },
  "language_info": {
   "codemirror_mode": {
    "name": "ipython",
    "version": 3
   },
   "file_extension": ".py",
   "mimetype": "text/x-python",
   "name": "python",
   "nbconvert_exporter": "python",
   "pygments_lexer": "ipython3",
   "version": "3.11.5"
  }
 },
 "nbformat": 4,
 "nbformat_minor": 5
}
